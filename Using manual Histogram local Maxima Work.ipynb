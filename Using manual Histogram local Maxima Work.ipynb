{
 "cells": [
  {
   "cell_type": "code",
   "execution_count": 1,
   "metadata": {},
   "outputs": [],
   "source": [
    "import numpy as np\n",
    "import pandas as pd"
   ]
  },
  {
   "cell_type": "code",
   "execution_count": 2,
   "metadata": {},
   "outputs": [],
   "source": [
    "import matplotlib.pyplot as plt\n",
    "%matplotlib inline \n",
    "import matplotlib.cm as cm"
   ]
  },
  {
   "cell_type": "code",
   "execution_count": 3,
   "metadata": {},
   "outputs": [],
   "source": [
    "input_data = pd.read_csv(\"./Mall_Customers.csv\")"
   ]
  },
  {
   "cell_type": "code",
   "execution_count": 4,
   "metadata": {},
   "outputs": [
    {
     "data": {
      "text/html": [
       "<div>\n",
       "<style scoped>\n",
       "    .dataframe tbody tr th:only-of-type {\n",
       "        vertical-align: middle;\n",
       "    }\n",
       "\n",
       "    .dataframe tbody tr th {\n",
       "        vertical-align: top;\n",
       "    }\n",
       "\n",
       "    .dataframe thead th {\n",
       "        text-align: right;\n",
       "    }\n",
       "</style>\n",
       "<table border=\"1\" class=\"dataframe\">\n",
       "  <thead>\n",
       "    <tr style=\"text-align: right;\">\n",
       "      <th></th>\n",
       "      <th>CustomerID</th>\n",
       "      <th>Gender</th>\n",
       "      <th>Age</th>\n",
       "      <th>Annual Income (k$)</th>\n",
       "      <th>Spending Score (1-100)</th>\n",
       "    </tr>\n",
       "  </thead>\n",
       "  <tbody>\n",
       "    <tr>\n",
       "      <th>0</th>\n",
       "      <td>1</td>\n",
       "      <td>Male</td>\n",
       "      <td>19</td>\n",
       "      <td>15</td>\n",
       "      <td>39</td>\n",
       "    </tr>\n",
       "    <tr>\n",
       "      <th>1</th>\n",
       "      <td>2</td>\n",
       "      <td>Male</td>\n",
       "      <td>21</td>\n",
       "      <td>15</td>\n",
       "      <td>81</td>\n",
       "    </tr>\n",
       "    <tr>\n",
       "      <th>2</th>\n",
       "      <td>3</td>\n",
       "      <td>Female</td>\n",
       "      <td>20</td>\n",
       "      <td>16</td>\n",
       "      <td>6</td>\n",
       "    </tr>\n",
       "    <tr>\n",
       "      <th>3</th>\n",
       "      <td>4</td>\n",
       "      <td>Female</td>\n",
       "      <td>23</td>\n",
       "      <td>16</td>\n",
       "      <td>77</td>\n",
       "    </tr>\n",
       "    <tr>\n",
       "      <th>4</th>\n",
       "      <td>5</td>\n",
       "      <td>Female</td>\n",
       "      <td>31</td>\n",
       "      <td>17</td>\n",
       "      <td>40</td>\n",
       "    </tr>\n",
       "  </tbody>\n",
       "</table>\n",
       "</div>"
      ],
      "text/plain": [
       "   CustomerID  Gender  Age  Annual Income (k$)  Spending Score (1-100)\n",
       "0           1    Male   19                  15                      39\n",
       "1           2    Male   21                  15                      81\n",
       "2           3  Female   20                  16                       6\n",
       "3           4  Female   23                  16                      77\n",
       "4           5  Female   31                  17                      40"
      ]
     },
     "execution_count": 4,
     "metadata": {},
     "output_type": "execute_result"
    }
   ],
   "source": [
    "input_data.head()"
   ]
  },
  {
   "cell_type": "code",
   "execution_count": 5,
   "metadata": {},
   "outputs": [],
   "source": [
    "x = input_data.iloc[:,[3,4]].values"
   ]
  },
  {
   "cell_type": "code",
   "execution_count": 6,
   "metadata": {},
   "outputs": [
    {
     "data": {
      "text/plain": [
       "array([[ 15,  39],\n",
       "       [ 15,  81],\n",
       "       [ 16,   6],\n",
       "       [ 16,  77],\n",
       "       [ 17,  40],\n",
       "       [ 17,  76],\n",
       "       [ 18,   6],\n",
       "       [ 18,  94],\n",
       "       [ 19,   3],\n",
       "       [ 19,  72],\n",
       "       [ 19,  14],\n",
       "       [ 19,  99],\n",
       "       [ 20,  15],\n",
       "       [ 20,  77],\n",
       "       [ 20,  13],\n",
       "       [ 20,  79],\n",
       "       [ 21,  35],\n",
       "       [ 21,  66],\n",
       "       [ 23,  29],\n",
       "       [ 23,  98],\n",
       "       [ 24,  35],\n",
       "       [ 24,  73],\n",
       "       [ 25,   5],\n",
       "       [ 25,  73],\n",
       "       [ 28,  14],\n",
       "       [ 28,  82],\n",
       "       [ 28,  32],\n",
       "       [ 28,  61],\n",
       "       [ 29,  31],\n",
       "       [ 29,  87],\n",
       "       [ 30,   4],\n",
       "       [ 30,  73],\n",
       "       [ 33,   4],\n",
       "       [ 33,  92],\n",
       "       [ 33,  14],\n",
       "       [ 33,  81],\n",
       "       [ 34,  17],\n",
       "       [ 34,  73],\n",
       "       [ 37,  26],\n",
       "       [ 37,  75],\n",
       "       [ 38,  35],\n",
       "       [ 38,  92],\n",
       "       [ 39,  36],\n",
       "       [ 39,  61],\n",
       "       [ 39,  28],\n",
       "       [ 39,  65],\n",
       "       [ 40,  55],\n",
       "       [ 40,  47],\n",
       "       [ 40,  42],\n",
       "       [ 40,  42],\n",
       "       [ 42,  52],\n",
       "       [ 42,  60],\n",
       "       [ 43,  54],\n",
       "       [ 43,  60],\n",
       "       [ 43,  45],\n",
       "       [ 43,  41],\n",
       "       [ 44,  50],\n",
       "       [ 44,  46],\n",
       "       [ 46,  51],\n",
       "       [ 46,  46],\n",
       "       [ 46,  56],\n",
       "       [ 46,  55],\n",
       "       [ 47,  52],\n",
       "       [ 47,  59],\n",
       "       [ 48,  51],\n",
       "       [ 48,  59],\n",
       "       [ 48,  50],\n",
       "       [ 48,  48],\n",
       "       [ 48,  59],\n",
       "       [ 48,  47],\n",
       "       [ 49,  55],\n",
       "       [ 49,  42],\n",
       "       [ 50,  49],\n",
       "       [ 50,  56],\n",
       "       [ 54,  47],\n",
       "       [ 54,  54],\n",
       "       [ 54,  53],\n",
       "       [ 54,  48],\n",
       "       [ 54,  52],\n",
       "       [ 54,  42],\n",
       "       [ 54,  51],\n",
       "       [ 54,  55],\n",
       "       [ 54,  41],\n",
       "       [ 54,  44],\n",
       "       [ 54,  57],\n",
       "       [ 54,  46],\n",
       "       [ 57,  58],\n",
       "       [ 57,  55],\n",
       "       [ 58,  60],\n",
       "       [ 58,  46],\n",
       "       [ 59,  55],\n",
       "       [ 59,  41],\n",
       "       [ 60,  49],\n",
       "       [ 60,  40],\n",
       "       [ 60,  42],\n",
       "       [ 60,  52],\n",
       "       [ 60,  47],\n",
       "       [ 60,  50],\n",
       "       [ 61,  42],\n",
       "       [ 61,  49],\n",
       "       [ 62,  41],\n",
       "       [ 62,  48],\n",
       "       [ 62,  59],\n",
       "       [ 62,  55],\n",
       "       [ 62,  56],\n",
       "       [ 62,  42],\n",
       "       [ 63,  50],\n",
       "       [ 63,  46],\n",
       "       [ 63,  43],\n",
       "       [ 63,  48],\n",
       "       [ 63,  52],\n",
       "       [ 63,  54],\n",
       "       [ 64,  42],\n",
       "       [ 64,  46],\n",
       "       [ 65,  48],\n",
       "       [ 65,  50],\n",
       "       [ 65,  43],\n",
       "       [ 65,  59],\n",
       "       [ 67,  43],\n",
       "       [ 67,  57],\n",
       "       [ 67,  56],\n",
       "       [ 67,  40],\n",
       "       [ 69,  58],\n",
       "       [ 69,  91],\n",
       "       [ 70,  29],\n",
       "       [ 70,  77],\n",
       "       [ 71,  35],\n",
       "       [ 71,  95],\n",
       "       [ 71,  11],\n",
       "       [ 71,  75],\n",
       "       [ 71,   9],\n",
       "       [ 71,  75],\n",
       "       [ 72,  34],\n",
       "       [ 72,  71],\n",
       "       [ 73,   5],\n",
       "       [ 73,  88],\n",
       "       [ 73,   7],\n",
       "       [ 73,  73],\n",
       "       [ 74,  10],\n",
       "       [ 74,  72],\n",
       "       [ 75,   5],\n",
       "       [ 75,  93],\n",
       "       [ 76,  40],\n",
       "       [ 76,  87],\n",
       "       [ 77,  12],\n",
       "       [ 77,  97],\n",
       "       [ 77,  36],\n",
       "       [ 77,  74],\n",
       "       [ 78,  22],\n",
       "       [ 78,  90],\n",
       "       [ 78,  17],\n",
       "       [ 78,  88],\n",
       "       [ 78,  20],\n",
       "       [ 78,  76],\n",
       "       [ 78,  16],\n",
       "       [ 78,  89],\n",
       "       [ 78,   1],\n",
       "       [ 78,  78],\n",
       "       [ 78,   1],\n",
       "       [ 78,  73],\n",
       "       [ 79,  35],\n",
       "       [ 79,  83],\n",
       "       [ 81,   5],\n",
       "       [ 81,  93],\n",
       "       [ 85,  26],\n",
       "       [ 85,  75],\n",
       "       [ 86,  20],\n",
       "       [ 86,  95],\n",
       "       [ 87,  27],\n",
       "       [ 87,  63],\n",
       "       [ 87,  13],\n",
       "       [ 87,  75],\n",
       "       [ 87,  10],\n",
       "       [ 87,  92],\n",
       "       [ 88,  13],\n",
       "       [ 88,  86],\n",
       "       [ 88,  15],\n",
       "       [ 88,  69],\n",
       "       [ 93,  14],\n",
       "       [ 93,  90],\n",
       "       [ 97,  32],\n",
       "       [ 97,  86],\n",
       "       [ 98,  15],\n",
       "       [ 98,  88],\n",
       "       [ 99,  39],\n",
       "       [ 99,  97],\n",
       "       [101,  24],\n",
       "       [101,  68],\n",
       "       [103,  17],\n",
       "       [103,  85],\n",
       "       [103,  23],\n",
       "       [103,  69],\n",
       "       [113,   8],\n",
       "       [113,  91],\n",
       "       [120,  16],\n",
       "       [120,  79],\n",
       "       [126,  28],\n",
       "       [126,  74],\n",
       "       [137,  18],\n",
       "       [137,  83]], dtype=int64)"
      ]
     },
     "execution_count": 6,
     "metadata": {},
     "output_type": "execute_result"
    }
   ],
   "source": [
    "x"
   ]
  },
  {
   "cell_type": "code",
   "execution_count": 7,
   "metadata": {},
   "outputs": [
    {
     "data": {
      "image/png": "[encoded data removed]",
      "text/plain": [
       "<Figure size 432x288 with 1 Axes>"
      ]
     },
     "metadata": {
      "needs_background": "light"
     },
     "output_type": "display_data"
    }
   ],
   "source": [
    "plt.hist(x[:,0], bins = [0, 5,10,15, 20, 30, \n",
    "                    40, 50, 60, 70, \n",
    "                    80, 90, 100,110,120,130,140])  \n",
    "plt.title(\"Numpy Histogram of Feature 1\")  \n",
    "  \n",
    "# show plot \n",
    "plt.show() "
   ]
  },
  {
   "cell_type": "code",
   "execution_count": 8,
   "metadata": {
    "scrolled": true
   },
   "outputs": [
    {
     "data": {
      "image/png": "[encoded data removed]",
      "text/plain": [
       "<Figure size 432x288 with 1 Axes>"
      ]
     },
     "metadata": {
      "needs_background": "light"
     },
     "output_type": "display_data"
    }
   ],
   "source": [
    "plt.hist(x[:,1], bins = [0, 10, 20, 30, \n",
    "                    40, 50, 60, 70, \n",
    "                    80, 90, 100,110,120,130,140])  \n",
    "  \n",
    "plt.title(\"Numpy Histogram of Feature 2\")  \n",
    "  \n",
    "# show plot \n",
    "plt.show() "
   ]
  },
  {
   "cell_type": "markdown",
   "metadata": {},
   "source": [
    "## Choosing local maxima from Histogram of Feature 1 and adding them to different Arrays"
   ]
  },
  {
   "cell_type": "code",
   "execution_count": 9,
   "metadata": {},
   "outputs": [
    {
     "name": "stdout",
     "output_type": "stream",
     "text": [
      "[[20, 15], [20, 77], [20, 13], [20, 79], [21, 35], [21, 66], [23, 29], [23, 98], [24, 35], [24, 73], [25, 5], [25, 73], [28, 14], [28, 82], [28, 32], [28, 61], [29, 31], [29, 87]]\n",
      "---------------------------------------------------------\n",
      "[[40, 55], [40, 47], [40, 42], [40, 42], [42, 52], [42, 60], [43, 54], [43, 60], [43, 45], [43, 41], [44, 50], [44, 46], [46, 51], [46, 46], [46, 56], [46, 55], [47, 52], [47, 59], [48, 51], [48, 59], [48, 50], [48, 48], [48, 59], [48, 47], [49, 55], [49, 42]]\n",
      "---------------------------------------------------------\n",
      "[[70, 29], [70, 77], [71, 35], [71, 95], [71, 11], [71, 75], [71, 9], [71, 75], [72, 34], [72, 71], [73, 5], [73, 88], [73, 7], [73, 73], [74, 10], [74, 72], [75, 5], [75, 93], [76, 40], [76, 87], [77, 12], [77, 97], [77, 36], [77, 74], [78, 22], [78, 90], [78, 17], [78, 88], [78, 20], [78, 76], [78, 16], [78, 89], [78, 1], [78, 78], [78, 1], [78, 73], [79, 35], [79, 83]]\n",
      "---------------------------------------------------------\n",
      "[[120, 16], [120, 79], [126, 28], [126, 74]]\n"
     ]
    }
   ],
   "source": [
    "A1 = []\n",
    "A2 = []\n",
    "A3 = []\n",
    "A4 = []\n",
    "for i in x:\n",
    "    if i[0] in range(20,30):\n",
    "        A1.append([i[0],i[1]])\n",
    "    elif i[0] in range(40,50):\n",
    "        A2.append([i[0],i[1]])\n",
    "    elif i[0] in range(70,80):\n",
    "        A3.append([i[0],i[1]])\n",
    "    elif i[0] in range(120,130):\n",
    "        A4.append([i[0],i[1]])\n",
    "print(A1)\n",
    "print(\"---------------------------------------------------------\")\n",
    "print(A2)\n",
    "print(\"---------------------------------------------------------\")\n",
    "print(A3)\n",
    "print(\"---------------------------------------------------------\")\n",
    "print(A4)"
   ]
  },
  {
   "cell_type": "markdown",
   "metadata": {},
   "source": [
    "## Choosing local maxima from Histogram of Feature 2 and adding them to different Arrays"
   ]
  },
  {
   "cell_type": "code",
   "execution_count": 10,
   "metadata": {},
   "outputs": [
    {
     "name": "stdout",
     "output_type": "stream",
     "text": [
      "[[19, 14], [20, 15], [20, 13], [28, 14], [33, 14], [34, 17], [71, 11], [74, 10], [77, 12], [78, 17], [78, 16], [87, 13], [87, 10], [88, 13], [88, 15], [93, 14], [98, 15], [103, 17], [120, 16], [137, 18]]\n",
      "---------------------------------------------------------\n",
      "[[17, 40], [40, 55], [40, 47], [40, 42], [40, 42], [42, 52], [43, 54], [43, 45], [43, 41], [44, 50], [44, 46], [46, 51], [46, 46], [46, 56], [46, 55], [47, 52], [47, 59], [48, 51], [48, 59], [48, 50], [48, 48], [48, 59], [48, 47], [49, 55], [49, 42], [50, 49], [50, 56], [54, 47], [54, 54], [54, 53], [54, 48], [54, 52], [54, 42], [54, 51], [54, 55], [54, 41], [54, 44], [54, 57], [54, 46], [57, 58], [57, 55], [58, 46], [59, 55], [59, 41], [60, 49], [60, 40], [60, 42], [60, 52], [60, 47], [60, 50], [61, 42], [61, 49], [62, 41], [62, 48], [62, 59], [62, 55], [62, 56], [62, 42], [63, 50], [63, 46], [63, 43], [63, 48], [63, 52], [63, 54], [64, 42], [64, 46], [65, 48], [65, 50], [65, 43], [65, 59], [67, 43], [67, 57], [67, 56], [67, 40], [69, 58], [76, 40]]\n",
      "---------------------------------------------------------\n",
      "[[16, 77], [17, 76], [19, 72], [20, 77], [20, 79], [24, 73], [25, 73], [30, 73], [34, 73], [37, 75], [70, 77], [71, 75], [71, 75], [72, 71], [73, 73], [74, 72], [77, 74], [78, 76], [78, 78], [78, 73], [85, 75], [87, 75], [120, 79], [126, 74]]\n",
      "---------------------------------------------------------\n",
      "[[18, 94], [19, 99], [23, 98], [33, 92], [38, 92], [69, 91], [71, 95], [75, 93], [77, 97], [78, 90], [81, 93], [86, 95], [87, 92], [93, 90], [99, 97], [113, 91]]\n"
     ]
    }
   ],
   "source": [
    "B1 = []\n",
    "B2 = []\n",
    "B3 = []\n",
    "B4 = []\n",
    "for i in x:\n",
    "    if i[1] in range(10,20):\n",
    "        B1.append([i[0],i[1]])\n",
    "    elif i[1] in range(40,60):\n",
    "        B2.append([i[0],i[1]])\n",
    "    elif i[1] in range(70,80):\n",
    "        B3.append([i[0],i[1]])\n",
    "    elif i[1] in range(90,100):\n",
    "        B4.append([i[0],i[1]])\n",
    "print(B1)\n",
    "print(\"---------------------------------------------------------\")\n",
    "print(B2)\n",
    "print(\"---------------------------------------------------------\")\n",
    "print(B3)\n",
    "print(\"---------------------------------------------------------\")\n",
    "print(B4)"
   ]
  },
  {
   "cell_type": "markdown",
   "metadata": {},
   "source": [
    "### Calculating Cartesian product with B1"
   ]
  },
  {
   "cell_type": "code",
   "execution_count": 11,
   "metadata": {},
   "outputs": [
    {
     "name": "stdout",
     "output_type": "stream",
     "text": [
      "Length of A1B1 is 32\n",
      "Length of A2B1 is 46\n",
      "Length of A3B1 is 48\n",
      "Length of A4B1 is 22\n"
     ]
    }
   ],
   "source": [
    "A1B1 = []\n",
    "[A1B1.append(x) for x in A1 if x not in B1]\n",
    "[A1B1.append(x) for x in B1 if x not in A1]\n",
    "\n",
    "A2B1 = []\n",
    "[A2B1.append(x) for x in A2 if x not in B1]\n",
    "[A2B1.append(x) for x in B1 if x not in A2]\n",
    "\n",
    "A3B1 = []\n",
    "[A3B1.append(x) for x in A3 if x not in B1]\n",
    "[A3B1.append(x) for x in B1 if x not in A3]\n",
    "\n",
    "A4B1 = []\n",
    "[A4B1.append(x) for x in A4 if x not in B1]\n",
    "[A4B1.append(x) for x in B1 if x not in A4]\n",
    "\n",
    "print(\"Length of A1B1 is \" + str(len(A1B1)))\n",
    "print(\"Length of A2B1 is \" + str(len(A2B1)))\n",
    "print(\"Length of A3B1 is \" + str(len(A3B1)))\n",
    "print(\"Length of A4B1 is \" + str(len(A4B1)))"
   ]
  },
  {
   "cell_type": "markdown",
   "metadata": {},
   "source": [
    "### Calculating Cartesian product with B2"
   ]
  },
  {
   "cell_type": "code",
   "execution_count": 12,
   "metadata": {},
   "outputs": [
    {
     "name": "stdout",
     "output_type": "stream",
     "text": [
      "Length of A1B2 is 94\n",
      "Length of A2B2 is 54\n",
      "Length of A3B2 is 112\n",
      "Length of A4B2 is 80\n"
     ]
    }
   ],
   "source": [
    "A1B2 = []\n",
    "[A1B2.append(x) for x in A1 if x not in B2]\n",
    "[A1B2.append(x) for x in B2 if x not in A1]\n",
    "\n",
    "A2B2 = []\n",
    "[A2B2.append(x) for x in A2 if x not in B2]\n",
    "[A2B2.append(x) for x in B2 if x not in A2]\n",
    "\n",
    "A3B2 = []\n",
    "[A3B2.append(x) for x in A3 if x not in B2]\n",
    "[A3B2.append(x) for x in B2 if x not in A3]\n",
    "\n",
    "A4B2 = []\n",
    "[A4B2.append(x) for x in A4 if x not in B2]\n",
    "[A4B2.append(x) for x in B2 if x not in A4]\n",
    "\n",
    "print(\"Length of A1B2 is \" + str(len(A1B2)))\n",
    "print(\"Length of A2B2 is \" + str(len(A2B2)))\n",
    "print(\"Length of A3B2 is \" + str(len(A3B2)))\n",
    "print(\"Length of A4B2 is \" + str(len(A4B2)))"
   ]
  },
  {
   "cell_type": "markdown",
   "metadata": {},
   "source": [
    "### Calculating Cartesian product with B3"
   ]
  },
  {
   "cell_type": "code",
   "execution_count": 13,
   "metadata": {},
   "outputs": [
    {
     "name": "stdout",
     "output_type": "stream",
     "text": [
      "Length of A1B3 is 34\n",
      "Length of A2B3 is 50\n",
      "Length of A3B3 is 42\n",
      "Length of A4B3 is 24\n"
     ]
    }
   ],
   "source": [
    "A1B3 = []\n",
    "[A1B3.append(x) for x in A1 if x not in B3]\n",
    "[A1B3.append(x) for x in B3 if x not in A1]\n",
    "\n",
    "A2B3 = []\n",
    "[A2B3.append(x) for x in A2 if x not in B3]\n",
    "[A2B3.append(x) for x in B3 if x not in A2]\n",
    "\n",
    "A3B3 = []\n",
    "[A3B3.append(x) for x in A3 if x not in B3]\n",
    "[A3B3.append(x) for x in B3 if x not in A3]\n",
    "\n",
    "A4B3 = []\n",
    "[A4B3.append(x) for x in A4 if x not in B3]\n",
    "[A4B3.append(x) for x in B3 if x not in A4]\n",
    "\n",
    "print(\"Length of A1B3 is \" + str(len(A1B3)))\n",
    "print(\"Length of A2B3 is \" + str(len(A2B3)))\n",
    "print(\"Length of A3B3 is \" + str(len(A3B3)))\n",
    "print(\"Length of A4B3 is \" + str(len(A4B3)))"
   ]
  },
  {
   "cell_type": "markdown",
   "metadata": {},
   "source": [
    "### Calculating Cartesian product with B4"
   ]
  },
  {
   "cell_type": "code",
   "execution_count": 14,
   "metadata": {},
   "outputs": [
    {
     "name": "stdout",
     "output_type": "stream",
     "text": [
      "Length of A1B4 is 32\n",
      "Length of A2B4 is 42\n",
      "Length of A3B4 is 46\n",
      "Length of A4B4 is 20\n"
     ]
    }
   ],
   "source": [
    "A1B4 = []\n",
    "[A1B4.append(x) for x in A1 if x not in B4]\n",
    "[A1B4.append(x) for x in B4 if x not in A1]\n",
    "\n",
    "A2B4 = []\n",
    "[A2B4.append(x) for x in A2 if x not in B4]\n",
    "[A2B4.append(x) for x in B4 if x not in A2]\n",
    "\n",
    "A3B4 = []\n",
    "[A3B4.append(x) for x in A3 if x not in B4]\n",
    "[A3B4.append(x) for x in B4 if x not in A3]\n",
    "\n",
    "A4B4 = []\n",
    "[A4B4.append(x) for x in A4 if x not in B4]\n",
    "[A4B4.append(x) for x in B4 if x not in A4]\n",
    "\n",
    "print(\"Length of A1B4 is \" + str(len(A1B4)))\n",
    "print(\"Length of A2B4 is \" + str(len(A2B4)))\n",
    "print(\"Length of A3B4 is \" + str(len(A3B4)))\n",
    "print(\"Length of A4B4 is \" + str(len(A4B4)))"
   ]
  },
  {
   "cell_type": "markdown",
   "metadata": {},
   "source": [
    "### Now we have total 16 array's namely  A1B1,A2B1,A3B1,A4B1,A1B2 ............ ans so on ."
   ]
  },
  {
   "cell_type": "code",
   "execution_count": 15,
   "metadata": {},
   "outputs": [
    {
     "data": {
      "text/plain": [
       "[<matplotlib.lines.Line2D at 0x1d42cc265b0>]"
      ]
     },
     "execution_count": 15,
     "metadata": {},
     "output_type": "execute_result"
    },
    {
     "data": {
      "image/png": "[encoded data removed]",
      "text/plain": [
       "<Figure size 720x216 with 16 Axes>"
      ]
     },
     "metadata": {
      "needs_background": "light"
     },
     "output_type": "display_data"
    }
   ],
   "source": [
    "\n",
    "f = plt.figure(figsize=(10,3))\n",
    "x = np.array(A1B1)\n",
    "y = x[:,1]\n",
    "x = x[:,0]\n",
    "plt.subplot(4,4,1)\n",
    "plt.plot(x,y)\n",
    "\n",
    "x = np.array(A2B1)\n",
    "y = x[:,1]\n",
    "x = x[:,0]\n",
    "plt.subplot(4,4,2)\n",
    "plt.plot(x,y)\n",
    "\n",
    "x = np.array(A3B1)\n",
    "y = x[:,1]\n",
    "x = x[:,0]\n",
    "plt.subplot(4,4,3)\n",
    "plt.plot(x,y)\n",
    "\n",
    "x = np.array(A4B1)\n",
    "y = x[:,1]\n",
    "x = x[:,0]\n",
    "plt.subplot(4,4,4)\n",
    "plt.plot(x,y)\n",
    "\n",
    "x = np.array(A1B2)\n",
    "y = x[:,1]\n",
    "x = x[:,0]\n",
    "plt.subplot(4,4,5)\n",
    "plt.plot(x,y)\n",
    "\n",
    "x = np.array(A2B2)\n",
    "y = x[:,1]\n",
    "x = x[:,0]\n",
    "plt.subplot(4,4,6)\n",
    "plt.plot(x,y)\n",
    "\n",
    "x = np.array(A3B2)\n",
    "y = x[:,1]\n",
    "x = x[:,0]\n",
    "plt.subplot(4,4,7)\n",
    "plt.plot(x,y)\n",
    "\n",
    "x = np.array(A4B2)\n",
    "y = x[:,1]\n",
    "x = x[:,0]\n",
    "plt.subplot(4,4,8)\n",
    "plt.plot(x,y)\n",
    "\n",
    "\n",
    "\n",
    "x = np.array(A1B3)\n",
    "y = x[:,1]\n",
    "x = x[:,0]\n",
    "plt.subplot(4,4,9)\n",
    "plt.plot(x,y)\n",
    "\n",
    "x = np.array(A2B3)\n",
    "y = x[:,1]\n",
    "x = x[:,0]\n",
    "plt.subplot(4,4,10)\n",
    "plt.plot(x,y)\n",
    "\n",
    "x = np.array(A3B3)\n",
    "y = x[:,1]\n",
    "x = x[:,0]\n",
    "plt.subplot(4,4,11)\n",
    "plt.plot(x,y)\n",
    "\n",
    "x = np.array(A4B3)\n",
    "y = x[:,1]\n",
    "x = x[:,0]\n",
    "plt.subplot(4,4,12)\n",
    "plt.plot(x,y)\n",
    "\n",
    "\n",
    "x = np.array(A1B4)\n",
    "y = x[:,1]\n",
    "x = x[:,0]\n",
    "plt.subplot(4,4,13)\n",
    "plt.plot(x,y)\n",
    "\n",
    "x = np.array(A2B4)\n",
    "y = x[:,1]\n",
    "x = x[:,0]\n",
    "plt.subplot(4,4,14)\n",
    "plt.plot(x,y)\n",
    "\n",
    "x = np.array(A3B4)\n",
    "y = x[:,1]\n",
    "x = x[:,0]\n",
    "plt.subplot(4,4,15)\n",
    "plt.plot(x,y)\n",
    "\n",
    "x = np.array(A4B4)\n",
    "y = x[:,1]\n",
    "x = x[:,0]\n",
    "plt.subplot(4,4,16)\n",
    "plt.plot(x,y)"
   ]
  },
  {
   "cell_type": "code",
   "execution_count": null,
   "metadata": {},
   "outputs": [],
   "source": []
  }
 ],
 "metadata": {
  "kernelspec": {
   "display_name": "Python 3",
   "language": "python",
   "name": "python3"
  },
  "language_info": {
   "codemirror_mode": {
    "name": "ipython",
    "version": 3
   },
   "file_extension": ".py",
   "mimetype": "text/x-python",
   "name": "python",
   "nbconvert_exporter": "python",
   "pygments_lexer": "ipython3",
   "version": "3.8.3"
  }
 },
 "nbformat": 4,
 "nbformat_minor": 4
}
